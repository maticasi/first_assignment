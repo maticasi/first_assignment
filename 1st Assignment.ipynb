{
 "cells": [
  {
   "cell_type": "code",
   "execution_count": null,
   "metadata": {},
   "outputs": [],
   "source": [
    "# 1st Assignment POCS2\n",
    "# Matilde Casagni 2018508"
   ]
  },
  {
   "cell_type": "code",
   "execution_count": null,
   "metadata": {},
   "outputs": [],
   "source": [
    "## Basic Data Types ##"
   ]
  },
  {
   "cell_type": "code",
   "execution_count": null,
   "metadata": {},
   "outputs": [],
   "source": [
    "#1 Finding the percentage\n",
    "\n",
    "if __name__ == '__main__':\n",
    "    n = int(input())\n",
    "    student_marks = {}\n",
    "    for _ in range(n):\n",
    "        name, *line = input().split()\n",
    "        scores = list(map(float, line))\n",
    "        student_marks[name] = scores\n",
    "    query_name = input()\n",
    "    \n",
    "if n >= 2 and n <= 10 and len(scores) == 3:    \n",
    "    average = sum(student_marks[query_name])/len(student_marks[query_name])\n",
    "    print('%.2f'%average)\n"
   ]
  },
  {
   "cell_type": "code",
   "execution_count": null,
   "metadata": {},
   "outputs": [],
   "source": [
    "#2 List comprehensions\n",
    "\n",
    "if __name__ == '__main__':\n",
    "    x = int(input())\n",
    "    y = int(input())\n",
    "    z = int(input())\n",
    "    n = int(input())\n",
    "    \n",
    "\n",
    "print ([[i,j,k] for i in range(x+1) for j in range(y+1) for k in range(z+1) if (i + j + k) != n])\n"
   ]
  },
  {
   "cell_type": "code",
   "execution_count": null,
   "metadata": {},
   "outputs": [],
   "source": [
    "#3 Find the Runner-Up score\n",
    "\n",
    "if __name__ == '__main__':\n",
    "    n = int(input())\n",
    "    arr = map(int, input().split()) \n",
    "\n",
    "if n >= 2 and n <= 10 :           \n",
    "    arr=list(set(sorted(arr)))    \n",
    "    \n",
    "runner_up = arr[-2]  \n",
    "print(runner_up)\n"
   ]
  },
  {
   "cell_type": "code",
   "execution_count": null,
   "metadata": {},
   "outputs": [],
   "source": [
    "#4 Tuples\n",
    "\n",
    "if __name__ == '__main__':\n",
    "    n = int(input())\n",
    "    integer_list = map(int, input().split())\n",
    "    \n",
    "t = tuple(integer_list) \n",
    "print (hash(t)) "
   ]
  },
  {
   "cell_type": "code",
   "execution_count": 1,
   "metadata": {},
   "outputs": [],
   "source": [
    "#5 Nested List\n",
    "\n",
    "if __name__ == '__main__':\n",
    "    name_list = []\n",
    "    grade_list = []\n",
    "    scores = []\n",
    "    for _ in range(int(input())):\n",
    "        name = input()\n",
    "        name_list.append(name)\n",
    "        score = float(input())\n",
    "        grade_list.append(score)\n",
    "        scores.append([name, score])\n",
    "\n",
    "    ordered_grades = sorted(set(grade_list))\n",
    "    second_best = ordered_grades[1]\n",
    "\n",
    "    names = []\n",
    "    for i in range(len(scores)):\n",
    "        if (second_best == scores[i][1]):\n",
    "            names.append(scores[i][0])\n",
    "            \n",
    "    for name in sorted(names):\n",
    "        print(name)"
   ]
  },
  {
   "cell_type": "code",
   "execution_count": null,
   "metadata": {},
   "outputs": [],
   "source": [
    "## Sets ##"
   ]
  },
  {
   "cell_type": "code",
   "execution_count": null,
   "metadata": {},
   "outputs": [],
   "source": [
    "#1 Set .union() Operation\n",
    "\n",
    "n = int(input())\n",
    "a = set(map(int,input().split()))\n",
    "m = int(input())\n",
    "b = set(map(int,input().split()))\n",
    "print(len(a.union(b)))"
   ]
  },
  {
   "cell_type": "code",
   "execution_count": null,
   "metadata": {},
   "outputs": [],
   "source": [
    "#2 Set .difference() Operation\n",
    "\n",
    "n = int(input())\n",
    "a = set(map(int,input().split()))\n",
    "m = int(input())\n",
    "b = set(map(int,input().split()))\n",
    "print(len(a.difference(b)))"
   ]
  },
  {
   "cell_type": "code",
   "execution_count": null,
   "metadata": {},
   "outputs": [],
   "source": [
    "#3 Set .intersection() Operation\n",
    "\n",
    "n = int(input())\n",
    "a = set(map(int,input().split()))\n",
    "m = int(input())\n",
    "b = set(map(int,input().split()))\n",
    "print(len(a.intersection(b)))"
   ]
  },
  {
   "cell_type": "code",
   "execution_count": null,
   "metadata": {},
   "outputs": [],
   "source": [
    "#4 Set .symmetric_difference() Operation\n",
    "\n",
    "n = int(input())\n",
    "a = set(map(int,input().split()))\n",
    "m = int(input())\n",
    "b = set(map(int,input().split()))\n",
    "print(len(a.symmetric_difference(b)))"
   ]
  },
  {
   "cell_type": "code",
   "execution_count": null,
   "metadata": {},
   "outputs": [],
   "source": [
    "#5 Introduction to sets\n",
    "\n",
    "def average(array):\n",
    "    distinct_heights = set(array)\n",
    "    return round(sum(distinct_heights)/len(distinct_heights), 3)\n",
    "\n",
    "if __name__ == '__main__':\n",
    "    n = int(input())\n",
    "    arr = list(map(int, input().split()))\n",
    "    result = average(arr)\n",
    "    print(result)"
   ]
  },
  {
   "cell_type": "code",
   "execution_count": null,
   "metadata": {},
   "outputs": [],
   "source": [
    "#6 Set.add()\n",
    "\n",
    "N = int(input())\n",
    "s = set()\n",
    "for i in range(N):\n",
    "    s.add(input())\n",
    "print(len(s))"
   ]
  },
  {
   "cell_type": "code",
   "execution_count": null,
   "metadata": {},
   "outputs": [],
   "source": [
    "## Stings ##"
   ]
  },
  {
   "cell_type": "code",
   "execution_count": null,
   "metadata": {},
   "outputs": [],
   "source": [
    "#1 What's your name?\n",
    "\n",
    "def print_full_name(first_name, last_name):\n",
    "    print(f'Hello {first_name} {last_name}! You just delved into python.')\n",
    "    return print_full_name\n",
    "\n",
    "if __name__ == '__main__':\n",
    "    first_name = input()\n",
    "    last_name = input()\n",
    "    print_full_name(first_name, last_name)"
   ]
  },
  {
   "cell_type": "code",
   "execution_count": null,
   "metadata": {},
   "outputs": [],
   "source": [
    "#2 String split and join\n",
    "\n",
    "def split_and_join(line):\n",
    "    string = '-'.join((line.split()))\n",
    "    return(string)\n",
    "\n",
    "\n",
    "if __name__ == '__main__':\n",
    "    line = input()\n",
    "    result = split_and_join(line)\n",
    "    print(result)\n",
    "    "
   ]
  },
  {
   "cell_type": "code",
   "execution_count": null,
   "metadata": {},
   "outputs": [],
   "source": [
    "#3 sWAP cASE\n",
    "\n",
    "def swap_case(s):\n",
    "    new_str = []\n",
    "    for char in s:\n",
    "        if char.islower() == True:\n",
    "            new_str.append(char.upper())\n",
    "        else:\n",
    "            new_str.append(char.lower())\n",
    "    return \"\".join(new_str)\n",
    "    \n",
    "if __name__ == '__main__':\n",
    "    s = input()\n",
    "    result = swap_case(s)\n",
    "    print(result)"
   ]
  },
  {
   "cell_type": "code",
   "execution_count": null,
   "metadata": {},
   "outputs": [],
   "source": [
    "#4 Text wrap\n",
    "\n",
    "import textwrap\n",
    "\n",
    "def wrap(string, max_width):\n",
    "    string = textwrap.wrap(string,max_width)\n",
    "    return '\\n'.join(string)\n",
    "   \n",
    "if __name__ == '__main__':\n",
    "    string, max_width = input(), int(input())\n",
    "    result = wrap(string, max_width)\n",
    "    print(result)"
   ]
  },
  {
   "cell_type": "code",
   "execution_count": null,
   "metadata": {},
   "outputs": [],
   "source": [
    "#5 Capitalize!\n",
    "\n",
    "#!/bin/python3\n",
    "\n",
    "import math\n",
    "import os\n",
    "import random\n",
    "import re\n",
    "import sys\n",
    "\n",
    "def solve(s):\n",
    "    name = []\n",
    "    full_name = s.split(\" \")\n",
    "    for i in range(0,len(full_name)):\n",
    "        name.append(full_name[i].capitalize())\n",
    "    return \" \".join(name)    \n",
    "\n",
    "if __name__ == '__main__':\n",
    "    fptr = open(os.environ['OUTPUT_PATH'], 'w')\n",
    "\n",
    "    s = input()\n",
    "\n",
    "    result = solve(s)\n",
    "\n",
    "    fptr.write(result + '\\n')\n",
    "\n",
    "    fptr.close()\n"
   ]
  },
  {
   "cell_type": "code",
   "execution_count": null,
   "metadata": {},
   "outputs": [],
   "source": [
    "## Math ##"
   ]
  },
  {
   "cell_type": "code",
   "execution_count": null,
   "metadata": {},
   "outputs": [],
   "source": [
    "#1 Triangle Quest 2\n",
    "\n",
    "for i in range(1,int(input())+1): \n",
    "    print(((10**i)//9)**2)"
   ]
  },
  {
   "cell_type": "code",
   "execution_count": 2,
   "metadata": {},
   "outputs": [],
   "source": [
    "#2 Power - Mod Power\n",
    "\n",
    "a = int(input())\n",
    "b = int(input())\n",
    "m = int(input())\n",
    "\n",
    "\n",
    "a_pow_b = pow(a,b)\n",
    "a_pow_b_m = pow(a,b,m)\n",
    "\n",
    "\n",
    "print(a_pow_b)\n",
    "print(a_pow_b_m)\n"
   ]
  },
  {
   "cell_type": "code",
   "execution_count": null,
   "metadata": {},
   "outputs": [],
   "source": [
    "#3 Mod Divmod\n",
    "\n",
    "a= int(input())\n",
    "b= int(input())\n",
    "print (a//b)\n",
    "print (a%b)\n",
    "print (divmod(a,b))\n"
   ]
  },
  {
   "cell_type": "code",
   "execution_count": null,
   "metadata": {},
   "outputs": [],
   "source": [
    "#4 Intigers come in all sizes \n",
    "\n",
    "a = int(input())\n",
    "b = int(input())\n",
    "c = int(input())\n",
    "d = int(input())\n",
    "\n",
    "\n",
    "print((a**b)+(c**d))\n",
    "\n",
    "#------------------------------------------#\n",
    "\n",
    "# I tried also using constraints but it never worked\n",
    "\n",
    "a = int(input())\n",
    "b = int(input())\n",
    "c = int(input())\n",
    "d = int(input())\n",
    "\n",
    "calculation = 0\n",
    "\n",
    "def calculation(n):\n",
    "    if a>= 1 and a<=1000 and b>= 1 and b<=1000 and c>= 1 and c<=1000 and d>= 1 and d<=1000:\n",
    "        calculation= (a**b+c**d)\n",
    "    return calculation\n",
    "\n",
    "print(calculation)"
   ]
  },
  {
   "cell_type": "code",
   "execution_count": null,
   "metadata": {},
   "outputs": [],
   "source": [
    "## Iter Tools ##"
   ]
  },
  {
   "cell_type": "code",
   "execution_count": null,
   "metadata": {},
   "outputs": [],
   "source": [
    "#1 Itertool.product()\n",
    "\n",
    "from itertools import product\n",
    "\n",
    "A = map(int, input().split())\n",
    "B = map(int, input().split())\n",
    "\n",
    "AB = product(A,B)\n",
    "print(*AB)"
   ]
  },
  {
   "cell_type": "code",
   "execution_count": null,
   "metadata": {},
   "outputs": [],
   "source": [
    "#2 Itertool.combinations()\n",
    "\n",
    "from itertools import combinations\n",
    "\n",
    "S, k = input().split()\n",
    "\n",
    "for i in range(1, int(k)+1):\n",
    "    for j in combinations(sorted(S), i):\n",
    "        print(''.join(j))\n"
   ]
  },
  {
   "cell_type": "code",
   "execution_count": null,
   "metadata": {},
   "outputs": [],
   "source": [
    "#3 Itertool.combination_with_replacement()\n",
    "\n",
    "from itertools import combinations_with_replacement\n",
    "\n",
    "S, k = input().split()\n",
    "S = sorted(S)\n",
    "k = int(k)\n",
    "\n",
    "cwr_sk = combinations_with_replacement(S, k)\n",
    "for i in cwr_sk:\n",
    "    print(''.join(i), sep='\\n')\n"
   ]
  },
  {
   "cell_type": "code",
   "execution_count": null,
   "metadata": {},
   "outputs": [],
   "source": [
    "#4 Itertools.permutations()\n",
    "\n",
    "from itertools import permutations\n",
    "\n",
    "S,k = input().split()\n",
    "\n",
    "for i in list(permutations(sorted(S), int(k))):\n",
    "    print(''.join(i))"
   ]
  },
  {
   "cell_type": "code",
   "execution_count": null,
   "metadata": {},
   "outputs": [],
   "source": [
    "## Collections ##"
   ]
  },
  {
   "cell_type": "code",
   "execution_count": null,
   "metadata": {},
   "outputs": [],
   "source": [
    "#1 Collections.Counter()\n",
    "\n",
    "from collections import Counter\n",
    "\n",
    "n = int(input())\n",
    "sizes = Counter(map(int,input().split()))\n",
    "x = int(input())\n",
    "\n",
    "money_earned= 0\n",
    "for i in range(x):\n",
    "    s, price = map(int,input().split())\n",
    "    if sizes[s] > 0:\n",
    "        money_earned += price\n",
    "        sizes[s] -= 1\n",
    "print(money_earned)"
   ]
  },
  {
   "cell_type": "code",
   "execution_count": null,
   "metadata": {},
   "outputs": [],
   "source": [
    "#2 Collections.OrderedDict()\n",
    "\n",
    "from collections import OrderedDict\n",
    "\n",
    "dictionary = OrderedDict()\n",
    "counter = int(input())\n",
    "\n",
    "for _ in range (counter):\n",
    "    item_name, x, net_price = input().rpartition(' ')\n",
    "    if item_name in dictionary.keys():\n",
    "        dictionary[item_name] += int(net_price)\n",
    "    else:\n",
    "        dictionary[item_name] = int(net_price)\n",
    "for i,j in dictionary.items():\n",
    "    print(i , j)"
   ]
  },
  {
   "cell_type": "code",
   "execution_count": null,
   "metadata": {},
   "outputs": [],
   "source": [
    "#3 DefaultDict Tutorial\n",
    "\n",
    "from collections import defaultdict\n",
    "\n",
    "n, m = map(int, input().split())\n",
    "\n",
    "group_A = defaultdict(list)\n",
    "\n",
    "for i in range(n):\n",
    "    group_A[input()].append(i+1)\n",
    "    \n",
    "for group_b in range(m):\n",
    "    keys = input()\n",
    "    if keys in group_A:\n",
    "        print(*group_A[keys]) \n",
    "    else:\n",
    "        print(\"-1\")"
   ]
  },
  {
   "cell_type": "code",
   "execution_count": null,
   "metadata": {},
   "outputs": [],
   "source": [
    "#4 Word order\n",
    "\n",
    "from collections import Counter\n",
    "\n",
    "if __name__ == \"__main__\":\n",
    "    n = int(input())\n",
    "    words = [input().replace(\"\\n\", \"\") for i in range(n)]\n",
    "    print(len(set(words))) # unique occurences\n",
    "    print(\" \".join(str(i) for i in Counter(words).values())) # count of each word"
   ]
  }
 ],
 "metadata": {
  "kernelspec": {
   "display_name": "Python 3.10.0 64-bit",
   "language": "python",
   "name": "python3"
  },
  "language_info": {
   "codemirror_mode": {
    "name": "ipython",
    "version": 3
   },
   "file_extension": ".py",
   "mimetype": "text/x-python",
   "name": "python",
   "nbconvert_exporter": "python",
   "pygments_lexer": "ipython3",
   "version": "3.10.0"
  },
  "orig_nbformat": 4,
  "vscode": {
   "interpreter": {
    "hash": "aee8b7b246df8f9039afb4144a1f6fd8d2ca17a180786b69acc140d282b71a49"
   }
  }
 },
 "nbformat": 4,
 "nbformat_minor": 2
}
